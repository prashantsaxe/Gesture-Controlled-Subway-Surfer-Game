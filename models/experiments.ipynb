{
 "cells": [
  {
   "cell_type": "code",
   "execution_count": 2,
   "id": "b487b80f",
   "metadata": {},
   "outputs": [
    {
     "name": "stdout",
     "output_type": "stream",
     "text": [
      "Shape: (16, 71)\n",
      "Type: <class 'numpy.ndarray'>\n",
      "Sample Frame:\n",
      " [ 0.00000000e+00  0.00000000e+00  0.00000000e+00 -7.52471089e-02\n",
      " -4.49002981e-02 -2.83907037e-02 -1.19417250e-01 -1.31248176e-01\n",
      " -3.92380692e-02 -1.38263702e-01 -2.15447903e-01 -4.87474352e-02\n",
      " -1.64385557e-01 -2.82859683e-01 -5.69844954e-02 -8.00072551e-02\n",
      " -2.63840199e-01 -5.29287245e-03 -8.90763402e-02 -3.63877207e-01\n",
      " -2.46044547e-02 -9.16916728e-02 -4.25870329e-01 -4.47163135e-02\n",
      " -9.16235447e-02 -4.83756334e-01 -6.03216626e-02 -3.75658870e-02\n",
      " -2.78075039e-01 -7.60572079e-03 -4.58440185e-02 -3.83162886e-01\n",
      " -2.26266012e-02 -4.95669246e-02 -4.48877573e-01 -4.07100097e-02\n",
      " -5.25712967e-02 -5.09197116e-01 -5.51055595e-02  2.07769871e-03\n",
      " -2.70800114e-01 -1.55973965e-02 -2.03543901e-03 -3.69583994e-01\n",
      " -3.16381529e-02 -6.85983896e-03 -4.34810817e-01 -4.42252308e-02\n",
      " -1.27660036e-02 -4.94968623e-01 -5.45227863e-02  4.35553193e-02\n",
      " -2.45601237e-01 -2.73346361e-02  4.88616228e-02 -3.23707312e-01\n",
      " -4.27956060e-02  5.07693887e-02 -3.77634048e-01 -5.00851460e-02\n",
      "  5.05114198e-02 -4.30332601e-01 -5.55657782e-02  3.32083490e-01\n",
      "  4.96038070e-01  5.14861211e-01  4.98126131e-01  4.36835331e-01\n",
      "  6.41644001e-04 -9.87350941e-04 -5.69816037e+01]\n"
     ]
    }
   ],
   "source": [
    "import numpy as np\n",
    "\n",
    "# Replace with your actual file path\n",
    "file_path = 'gesture_data\\go_left\\\\20250409_150130.npy'\n",
    "\n",
    "# Load the .npy file\n",
    "data = np.load(file_path)\n",
    "\n",
    "# View basic info\n",
    "print(\"Shape:\", data.shape)\n",
    "print(\"Type:\", type(data))\n",
    "\n",
    "# Print a sample\n",
    "print(\"Sample Frame:\\n\", data[0])\n"
   ]
  },
  {
   "cell_type": "code",
   "execution_count": null,
   "id": "cbba3456",
   "metadata": {},
   "outputs": [],
   "source": []
  }
 ],
 "metadata": {
  "kernelspec": {
   "display_name": "Python 3",
   "language": "python",
   "name": "python3"
  },
  "language_info": {
   "codemirror_mode": {
    "name": "ipython",
    "version": 3
   },
   "file_extension": ".py",
   "mimetype": "text/x-python",
   "name": "python",
   "nbconvert_exporter": "python",
   "pygments_lexer": "ipython3",
   "version": "3.10.0"
  }
 },
 "nbformat": 4,
 "nbformat_minor": 5
}
